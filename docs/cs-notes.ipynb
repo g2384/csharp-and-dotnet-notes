{
 "cells": [
  {
   "cell_type": "code",
   "execution_count": null,
   "metadata": {
    "dotnet_interactive": {
     "language": "csharp"
    },
    "vscode": {
     "languageId": "dotnet-interactive.csharp"
    }
   },
   "outputs": [],
   "source": [
    "public static void Test1<T>(this IReadOnlyList<IList<T>> list)\n",
    "{\n",
    "    if (list.Any())\n",
    "    {\n",
    "        var a = list[0];\n",
    "    }\n",
    "    return;\n",
    "}\n",
    "\n",
    "public static void Test2<T>(this IList<IList<T>> list)\n",
    "{\n",
    "    if (list.Any())\n",
    "    {\n",
    "        var a = list[0];\n",
    "    }\n",
    "    return;\n",
    "}\n",
    "\n",
    "public static void Test3<T>(this ICollection<IList<T>> list)\n",
    "{\n",
    "    // var a = list[0]; Cannot apply indexing with [] to an expression of type 'ICollection<IList<T>>'\n",
    "    return;\n",
    "}\n",
    "\n",
    "public static void Test4<T>(this IReadOnlyList<ICollection<T>> list)\n",
    "{\n",
    "    if (list.Any())\n",
    "    {\n",
    "        var a = list[0];\n",
    "    }\n",
    "    return;\n",
    "}"
   ]
  },
  {
   "cell_type": "code",
   "execution_count": null,
   "metadata": {
    "dotnet_interactive": {
     "language": "csharp"
    },
    "vscode": {
     "languageId": "dotnet-interactive.csharp"
    }
   },
   "outputs": [],
   "source": [
    "var list1 = new List<List<double>>();\n",
    "list1.Test1();\n",
    "// list1.Test2(); fail\n",
    "// list1.Test4(); fail\n",
    "\n",
    "var list3 = (IList<IList<double>>)new List<IList<double>>();\n",
    "//list3.Test1(); fail\n",
    "list3.Test2();\n",
    "// list3.Test4(); fail\n",
    "\n",
    "var list4 = (IList<List<double>>)new List<List<double>>();\n",
    "// list4.Test1(); fail\n",
    "// list4.Test2(); fail\n",
    "// list4..Test4(); fail\n",
    "\n",
    "var list5 = new List<IList<double>>();\n",
    "list5.Test1();\n",
    "list5.Test2();\n",
    "// list5.Test4(); fail\n",
    "\n",
    "var list2 = new double[0][];\n",
    "list2.Test1();\n",
    "// list2.Test4(); fail\n",
    "\n"
   ]
  },
  {
   "cell_type": "code",
   "execution_count": null,
   "metadata": {
    "dotnet_interactive": {
     "language": "csharp"
    },
    "vscode": {
     "languageId": "dotnet-interactive.csharp"
    }
   },
   "outputs": [],
   "source": [
    "using System.Text.RegularExpressions;\n",
    "\n",
    "public static string ConvertToName(object o){\n",
    "    var fullName = o.GetType().FullName;\n",
    "    fullName = fullName.Replace(\"System.Collections.Generic.\", \"\").Replace(\"System.Double, System.Private.CoreLib, Version=6.0.0.0, Culture=neutral, PublicKeyToken=7cec85d7bea7798e\", \"Double\").Replace(\", System.Private.CoreLib, Version=6.0.0.0, Culture=neutral, PublicKeyToken=7cec85d7bea7798e\", \"\").Replace(\"System.Double\", \"Double\");\n",
    "    var reg = new Regex(@\"`1\\[\\[([\\w<>\\[\\]]+)\\]\\]\");\n",
    "    fullName = reg.Replace(fullName, \"<$1>\");\n",
    "    fullName = reg.Replace(fullName, \"<$1>\");\n",
    "    return fullName;\n",
    "}\n",
    "\n",
    "public static void Print(string fullName, string type){\n",
    "    Console.WriteLine(fullName + \" can be cast to \" + type);\n",
    "}\n",
    "\n",
    "public static void AddToResult(Dictionary<string, ISet<string>> result, string fullName, string type){\n",
    "    if(result.TryGetValue(type, out var v)){\n",
    "        v.Add(fullName);\n",
    "    }\n",
    "    else{\n",
    "    result[type] = new HashSet<string>(){fullName};\n",
    "    }\n",
    "}"
   ]
  },
  {
   "cell_type": "code",
   "execution_count": null,
   "metadata": {
    "dotnet_interactive": {
     "language": "csharp"
    },
    "vscode": {
     "languageId": "dotnet-interactive.csharp"
    }
   },
   "outputs": [
    {
     "name": "stdout",
     "output_type": "stream",
     "text": [
      "IReadOnlyList<IList<double>> (5/5)\r\n",
      "Double[][], List<Double[]>, List<Double>[], List<IList<Double>>, List<List<Double>>\r\n",
      "\r\n",
      "IReadOnlyList<ICollection<double>> (5/5)\r\n",
      "Double[][], List<Double[]>, List<Double>[], List<IList<Double>>, List<List<Double>>\r\n",
      "\r\n",
      "IList<IList<double>> (3/5)\r\n",
      "Double[][], List<Double>[], List<IList<Double>>\r\n",
      "\r\n",
      "ICollection<IList<double>> (3/5)\r\n",
      "Double[][], List<Double>[], List<IList<Double>>\r\n",
      "\r\n"
     ]
    }
   ],
   "source": [
    "var objs = new object[]{\n",
    "    new List<List<double>>(),\n",
    "    (IList<IList<double>>)(new List<IList<double>>()),\n",
    "    (IList<List<double>>)(new List<List<double>>()),\n",
    "    new List<IList<double>>(),\n",
    "    new List<double[]>(),\n",
    "    (IList<double[]>)(new List<double[]>()),\n",
    "    new List<double>[0],\n",
    "    (IList<double>[])(new List<double>[0]),\n",
    "    new double[0][],\n",
    "    (ICollection<double[]>)(new List<double[]>())\n",
    "};\n",
    "var result = new Dictionary<string, ISet<string>>();\n",
    "var uniqueObjs = new HashSet<string>();\n",
    "\n",
    "foreach(var o in objs){\n",
    "    var fullName = ConvertToName(o);\n",
    "    uniqueObjs.Add(fullName);\n",
    "    if(o is IReadOnlyList<IList<double>> list1){\n",
    "        AddToResult(result, fullName, \"IReadOnlyList<IList<double>>\");\n",
    "        if (list1.Any())\n",
    "        {\n",
    "            var a = list1[0];\n",
    "        }\n",
    "    }\n",
    "    if(o is IList<IList<double>> list2){\n",
    "        AddToResult(result, fullName, \"IList<IList<double>>\");\n",
    "        if (list2.Any())\n",
    "        {\n",
    "            var a = list2[0];\n",
    "        }\n",
    "    }\n",
    "    if(o is ICollection<IList<double>> list3){\n",
    "        AddToResult(result, fullName, \"ICollection<IList<double>>\");\n",
    "        if (list3.Any())\n",
    "        {\n",
    "            // Cannot apply indexing with [] to an expression of type 'ICollection<IList<T>>'\n",
    "            // var a = list2[0];\n",
    "        }\n",
    "    }\n",
    "    if(o is IReadOnlyList<ICollection<double>> list4){\n",
    "        AddToResult(result, fullName, \"IReadOnlyList<ICollection<double>>\");\n",
    "        if (list4.Any())\n",
    "        {\n",
    "            var a = list4[0];\n",
    "        }\n",
    "    }\n",
    "}\n",
    "\n",
    "foreach(var r in result){\n",
    "    Console.WriteLine(r.Key + \" (\" + r.Value.Count + \"/\" + uniqueObjs.Count + \")\");\n",
    "    Console.WriteLine(string.Join(\", \", r.Value.OrderBy(e => e)));\n",
    "    Console.WriteLine();\n",
    "}"
   ]
  }
 ],
 "metadata": {
  "kernelspec": {
   "display_name": ".NET (C#)",
   "language": "C#",
   "name": ".net-csharp"
  },
  "language_info": {
   "file_extension": ".cs",
   "mimetype": "text/x-csharp",
   "name": "C#",
   "pygments_lexer": "csharp",
   "version": "9.0"
  },
  "orig_nbformat": 4,
  "vscode": {
   "interpreter": {
    "hash": "2f35a9a593365a95f52da024e83c1989998a9d724cc0876b69ef147a2a9d1c45"
   }
  }
 },
 "nbformat": 4,
 "nbformat_minor": 2
}
